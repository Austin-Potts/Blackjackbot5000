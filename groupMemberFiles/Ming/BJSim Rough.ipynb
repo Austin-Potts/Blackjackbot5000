{
 "cells": [
  {
   "cell_type": "code",
   "execution_count": 106,
   "metadata": {
    "ExecuteTime": {
     "end_time": "2017-03-15T08:20:42.593971",
     "start_time": "2017-03-15T08:20:38.732773"
    }
   },
   "outputs": [],
   "source": [
    "import numpy as np\n",
    "import pandas as pd"
   ]
  },
  {
   "cell_type": "code",
   "execution_count": 107,
   "metadata": {
    "ExecuteTime": {
     "end_time": "2017-03-15T09:29:17.987565",
     "start_time": "2017-03-15T09:29:17.982501"
    }
   },
   "outputs": [],
   "source": [
    "pd.set_option(\"max_colwidth\", 0)"
   ]
  },
  {
   "cell_type": "markdown",
   "metadata": {},
   "source": [
    "# Game Deck"
   ]
  },
  {
   "cell_type": "code",
   "execution_count": 108,
   "metadata": {
    "ExecuteTime": {
     "end_time": "2017-03-15T08:22:27.124293",
     "start_time": "2017-03-15T08:22:27.107717"
    }
   },
   "outputs": [],
   "source": [
    "class GameDeck():\n",
    "    \"\"\" Create the game deck \"\"\"\n",
    "    values = [\"A\", 2, 3, 4, 5, 6, 7, 8, 9, 10, \"J\", \"Q\", \"K\"]\n",
    "    def __init__(self, num_decks=1, values=values, suits=4):\n",
    "        self.num_decks = num_decks\n",
    "        self.cards = values * num_decks * suits\n",
    "        \n",
    "    def __str__(self):\n",
    "        return \"{} cards left\\n{}\".format(len(self.cards), self.cards)\n",
    "    \n",
    "    def shuffle_cards(self):\n",
    "        np.random.shuffle(self.cards)\n",
    "        \n",
    "    def deal_card(self, hand=None):\n",
    "        if hand == None:\n",
    "            return self.cards.pop(0)\n",
    "        else:\n",
    "            hand.append(self.cards.pop(0))\n",
    "            \n",
    "    def return_cards(self, discards):\n",
    "        for i in discards:\n",
    "            positions = len(self.cards)\n",
    "            self.cards.insert(np.random.choice(positions), i)"
   ]
  },
  {
   "cell_type": "code",
   "execution_count": 109,
   "metadata": {
    "ExecuteTime": {
     "end_time": "2017-03-15T08:22:27.957959",
     "start_time": "2017-03-15T08:22:27.954187"
    }
   },
   "outputs": [],
   "source": [
    "test = GameDeck()"
   ]
  },
  {
   "cell_type": "code",
   "execution_count": 110,
   "metadata": {
    "ExecuteTime": {
     "end_time": "2017-03-15T08:23:02.039262",
     "start_time": "2017-03-15T08:23:01.990857"
    }
   },
   "outputs": [
    {
     "name": "stdout",
     "output_type": "stream",
     "text": [
      "52 cards left\n",
      "['A', 2, 3, 4, 5, 6, 7, 8, 9, 10, 'J', 'Q', 'K', 'A', 2, 3, 4, 5, 6, 7, 8, 9, 10, 'J', 'Q', 'K', 'A', 2, 3, 4, 5, 6, 7, 8, 9, 10, 'J', 'Q', 'K', 'A', 2, 3, 4, 5, 6, 7, 8, 9, 10, 'J', 'Q', 'K']\n",
      "\n",
      "52 cards left\n",
      "[7, 10, 'K', 'Q', 2, 4, 5, 'Q', 3, 5, 'K', 3, 2, 6, 9, 'K', 8, 'K', 3, 5, 6, 8, 9, 'J', 6, 'Q', 10, 'A', 'J', 6, 7, 7, 3, 2, 7, 'A', 'A', 10, 4, 4, 10, 'Q', 'J', 4, 'J', 'A', 8, 8, 9, 9, 2, 5]\n",
      "\n",
      "51 cards left\n",
      "[10, 'K', 'Q', 2, 4, 5, 'Q', 3, 5, 'K', 3, 2, 6, 9, 'K', 8, 'K', 3, 5, 6, 8, 9, 'J', 6, 'Q', 10, 'A', 'J', 6, 7, 7, 3, 2, 7, 'A', 'A', 10, 4, 4, 10, 'Q', 'J', 4, 'J', 'A', 8, 8, 9, 9, 2, 5]\n",
      "\n",
      "54 cards left\n",
      "[10, 'X', 'K', 'Q', 2, 4, 5, 'Q', 3, 5, 'test', 'K', 3, 2, 6, 9, 'K', 8, 'K', 3, 5, 6, 8, 9, 'J', 6, 'Q', 10, 'A', 'J', 6, 7, 7, 3, 2, 7, 'A', 'A', 10, 'Y', 4, 4, 10, 'Q', 'J', 4, 'J', 'A', 8, 8, 9, 9, 2, 5]\n"
     ]
    }
   ],
   "source": [
    "print (test)\n",
    "test.shuffle_cards()\n",
    "print ()\n",
    "print (test)\n",
    "test.deal_card()\n",
    "print ()\n",
    "print (test)\n",
    "test.return_cards([\"X\", \"Y\", \"test\"])\n",
    "print ()\n",
    "print (test)"
   ]
  },
  {
   "cell_type": "markdown",
   "metadata": {},
   "source": [
    "# Points calculator"
   ]
  },
  {
   "cell_type": "code",
   "execution_count": 111,
   "metadata": {
    "ExecuteTime": {
     "end_time": "2017-03-15T08:23:20.315431",
     "start_time": "2017-03-15T08:23:20.308257"
    }
   },
   "outputs": [],
   "source": [
    "def s_to_l(hand):\n",
    "    try:\n",
    "        hand = hand.split(\",\")\n",
    "    except:\n",
    "        pass\n",
    "    \n",
    "    working_hand = []\n",
    "    \n",
    "    for i in hand:\n",
    "        try:\n",
    "            working_hand.append(int(i))\n",
    "        except:\n",
    "            working_hand.append(i)\n",
    "    return working_hand"
   ]
  },
  {
   "cell_type": "code",
   "execution_count": 112,
   "metadata": {
    "ExecuteTime": {
     "end_time": "2017-03-15T13:30:01.035321",
     "start_time": "2017-03-15T13:30:01.025237"
    }
   },
   "outputs": [],
   "source": [
    "def calc_ace(hand, count_A):\n",
    "    # For each Ace, see if adding 11 causes it to bust\n",
    "    # If no, then take Ace as 11\n",
    "    # Else, take Ace as 1\n",
    "    working_hand = hand.copy()\n",
    "    \n",
    "    # Remove Aces\n",
    "    working_hand = [i if type(i) == int else 10 for i in working_hand if i != \"A\"]\n",
    "    for k in range(count_A):\n",
    "        if sum(working_hand) + 11 <= 21:\n",
    "            working_hand.append(11)\n",
    "        else:\n",
    "            if 11 in working_hand and sum(working_hand) + 1 > 21:\n",
    "                working_hand.remove(11)\n",
    "                working_hand.append(1)\n",
    "            working_hand.append(1)\n",
    "    return working_hand"
   ]
  },
  {
   "cell_type": "code",
   "execution_count": 113,
   "metadata": {
    "ExecuteTime": {
     "end_time": "2017-03-15T13:30:03.197587",
     "start_time": "2017-03-15T13:30:03.189280"
    }
   },
   "outputs": [],
   "source": [
    "def calc_points(hand):\n",
    "    working_hand = s_to_l(hand)\n",
    "    \n",
    "    if \"A\" in working_hand:\n",
    "        \n",
    "        # Count number of Aces\n",
    "        count_A = working_hand.count(\"A\")\n",
    "        working_hand = calc_ace(working_hand, count_A)\n",
    "        \n",
    "    else:\n",
    "        # Replace J, Q, and K with 10\n",
    "        working_hand = [10 if i in [\"J\", \"Q\", \"K\"] else int(i) for i in working_hand]\n",
    "    \n",
    "    return sum(working_hand)"
   ]
  },
  {
   "cell_type": "code",
   "execution_count": 114,
   "metadata": {
    "ExecuteTime": {
     "end_time": "2017-03-15T13:30:14.718488",
     "start_time": "2017-03-15T13:30:14.710250"
    }
   },
   "outputs": [
    {
     "name": "stdout",
     "output_type": "stream",
     "text": [
      "['A', 'K'] 21\n",
      "[10, 10] 20\n",
      "['A', 5] 16\n",
      "['A', 'A', 8] 20\n",
      "[3, 3] 6\n",
      "['A', 'A', 10] 12\n",
      "['A', 'A'] 12\n"
     ]
    }
   ],
   "source": [
    "for i in [[\"A\", \"K\"], [10,10], [\"A\", 5], [\"A\", \"A\", 8], [3,3], [\"A\", \"A\", 10], [\"A\", \"A\"]]:\n",
    "    print (i, calc_points(i))"
   ]
  },
  {
   "cell_type": "markdown",
   "metadata": {},
   "source": [
    "# Soft 17"
   ]
  },
  {
   "cell_type": "markdown",
   "metadata": {},
   "source": [
    "- Some casinos require the dealer to hit on a soft 17\n",
    "- We need to know when it is a soft 17"
   ]
  },
  {
   "cell_type": "code",
   "execution_count": 115,
   "metadata": {
    "ExecuteTime": {
     "end_time": "2017-03-15T09:13:39.217689",
     "start_time": "2017-03-15T09:13:39.210317"
    }
   },
   "outputs": [],
   "source": [
    "def soft_17(hand):\n",
    "    working_hand = s_to_l(hand)\n",
    "    \n",
    "    Ace_11 = False\n",
    "    if calc_points(working_hand) == 17 and \"A\" in working_hand:\n",
    "        count_A = working_hand.count(\"A\")\n",
    "        working_hand = calc_ace(working_hand, count_A)\n",
    "        if 11 in working_hand[-count_A:]:\n",
    "            return True\n",
    "    return False"
   ]
  },
  {
   "cell_type": "code",
   "execution_count": 116,
   "metadata": {
    "ExecuteTime": {
     "end_time": "2017-03-15T08:23:23.795624",
     "start_time": "2017-03-15T08:23:23.788197"
    }
   },
   "outputs": [
    {
     "name": "stdout",
     "output_type": "stream",
     "text": [
      "['K', 7] False\n",
      "['A', 3, 3] True\n",
      "['A', 'A', 5] True\n",
      "['A', 'A', 'A', 4] True\n"
     ]
    }
   ],
   "source": [
    "for i in [[\"K\", 7], [\"A\", 3, 3], [\"A\", \"A\", 5], [\"A\", \"A\", \"A\", 4]]:\n",
    "    print (i, soft_17(i))"
   ]
  },
  {
   "cell_type": "markdown",
   "metadata": {},
   "source": [
    "# Play game"
   ]
  },
  {
   "cell_type": "markdown",
   "metadata": {},
   "source": [
    "- strategies\n",
    "    - 0: random\n",
    "    - 1: recommended\n",
    "    - 2: statistical analysis\n",
    "    - 3: machine learning"
   ]
  },
  {
   "cell_type": "code",
   "execution_count": 117,
   "metadata": {
    "ExecuteTime": {
     "end_time": "2017-03-15T08:34:43.428459",
     "start_time": "2017-03-15T08:34:43.417323"
    }
   },
   "outputs": [],
   "source": [
    "def player_turn(game_deck, d_open, p_hand, strategy=0):\n",
    "    new_hand = p_hand.copy()\n",
    "    while calc_points(new_hand) <= 11:\n",
    "        game_deck.deal_card(new_hand)\n",
    "        \n",
    "    if strategy == 0:\n",
    "        while calc_points(new_hand) <= 18:\n",
    "            if np.random.random() <= 0.5:\n",
    "                game_deck.deal_card(new_hand)\n",
    "            else:\n",
    "                break\n",
    "    elif strategy == 1:\n",
    "        while calc_points(new_hand) < 17:\n",
    "            if d_open > 6:\n",
    "                game_deck.deal_card(new_hand)\n",
    "            else:\n",
    "                break\n",
    "                \n",
    "    return game_deck, p_hand, new_hand"
   ]
  },
  {
   "cell_type": "raw",
   "metadata": {
    "ExecuteTime": {
     "end_time": "2017-03-15T08:25:40.329452",
     "start_time": "2017-03-15T08:25:40.321496"
    }
   },
   "source": [
    "test = start_game()\n",
    "p_test = player_turn(test[0], test[1][0], test[2])\n",
    "print (p_test)\n",
    "print (calc_points(p_test[1]))\n",
    "print (calc_points(p_test[2]))"
   ]
  },
  {
   "cell_type": "code",
   "execution_count": 118,
   "metadata": {
    "ExecuteTime": {
     "end_time": "2017-03-15T08:34:45.495155",
     "start_time": "2017-03-15T08:34:45.488592"
    }
   },
   "outputs": [],
   "source": [
    "def dealer_turn(game_deck, hand, soft=1):\n",
    "    new_hand = hand.copy()\n",
    "    if soft == 1:\n",
    "        while calc_points(new_hand) < 17 or soft_17(new_hand):\n",
    "            game_deck.deal_card(new_hand)\n",
    "    else:\n",
    "        while calc_points(new_hand) < 17:\n",
    "            game_deck.deal_card(new_hand)\n",
    "    return game_deck, hand, new_hand"
   ]
  },
  {
   "cell_type": "raw",
   "metadata": {
    "ExecuteTime": {
     "end_time": "2017-03-15T08:25:46.611719",
     "start_time": "2017-03-15T08:25:46.599765"
    }
   },
   "source": [
    "test = start_game()\n",
    "p_test = player_turn(test[0], test[1][0], test[2])\n",
    "print (p_test)\n",
    "print (calc_points(p_test[1]))\n",
    "print (calc_points(p_test[2]))\n",
    "d_test = dealer_turn(p_test[0], test[1])\n",
    "print (d_test)\n",
    "print (calc_points(d_test[1]))\n",
    "print (calc_points(d_test[2]))"
   ]
  },
  {
   "cell_type": "code",
   "execution_count": 119,
   "metadata": {
    "ExecuteTime": {
     "end_time": "2017-03-15T08:34:47.781621",
     "start_time": "2017-03-15T08:34:47.777068"
    }
   },
   "outputs": [],
   "source": [
    "def l_to_s(l):\n",
    "    l = [str(i) for i in l]\n",
    "    return \",\".join(l)"
   ]
  },
  {
   "cell_type": "code",
   "execution_count": 120,
   "metadata": {
    "ExecuteTime": {
     "end_time": "2017-03-15T09:08:14.369382",
     "start_time": "2017-03-15T09:08:14.308394"
    }
   },
   "outputs": [],
   "source": [
    "def play_split(game_deck, p_hand, d_hand, d_open, num_decks, strategy=0, soft=1, game_type=0):\n",
    "    to_split = np.random.random() <= 0.5\n",
    "    if (strategy == 0 and to_split) or (strategy == 1 and p_hand[0] == 8):\n",
    "        # Splits\n",
    "        split = 1\n",
    "        p_hand_1 = [p_hand[0]]\n",
    "        p_hand_2 = [p_hand[1]]\n",
    "        game_deck.deal_card(p_hand_1)\n",
    "        game_deck.deal_card(p_hand_2)\n",
    "        game_deck, p_hand_1, p_new_hand_1 = player_turn(game_deck, d_open, p_hand_1, strategy=strategy)\n",
    "        game_deck, p_hand_2, p_new_hand_2 = player_turn(game_deck, d_open, p_hand_2, strategy=strategy)\n",
    "\n",
    "        # If either is below 21, dealer gets to play\n",
    "        if calc_points(p_new_hand_1) <= 21 or calc_points(p_new_hand_2) <= 21:\n",
    "            game_deck, d_hand, d_new_hand = dealer_turn(game_deck, d_hand)\n",
    "            # If hand 1 is above 21\n",
    "            if calc_points(p_new_hand_1) > 21:\n",
    "                # Dealer doesn't get to play for this hand\n",
    "                d_new_hand_1 = d_hand.copy()\n",
    "                out_1 = np.array([l_to_s(d_hand), l_to_s(d_new_hand_1), l_to_s(p_hand_1), l_to_s(p_new_hand_1), strategy, split, num_decks, soft])       \n",
    "            else:\n",
    "                out_1 = np.array([l_to_s(d_hand), l_to_s(d_new_hand), l_to_s(p_hand_1), l_to_s(p_new_hand_1), strategy, split, num_decks, soft])       \n",
    "            # If hand 2 is above 21\n",
    "            if calc_points(p_new_hand_2) > 21:\n",
    "                # Dealer doesn't get to play for this hand\n",
    "                d_new_hand_2 = d_hand.copy()\n",
    "                out_2 = np.array([l_to_s(d_hand), l_to_s(d_new_hand_2), l_to_s(p_hand_2), l_to_s(p_new_hand_2), strategy, split, num_decks, soft])\n",
    "            else:\n",
    "                out_2 = np.array([l_to_s(d_hand), l_to_s(d_new_hand), l_to_s(p_hand_2), l_to_s(p_new_hand_2), strategy, split, num_decks, soft])       \n",
    "        # They are both above 21, dealer doesn't play at all\n",
    "        else:\n",
    "            d_new_hand = d_hand.copy()\n",
    "            out_2 = np.array([l_to_s(d_hand), l_to_s(d_new_hand), l_to_s(p_hand_2), l_to_s(p_new_hand_2), strategy, split, num_decks, soft])       \n",
    "            out_1 = np.array([l_to_s(d_hand), l_to_s(d_new_hand), l_to_s(p_hand_1), l_to_s(p_new_hand_1), strategy, split, num_decks, soft])       \n",
    "            \n",
    "        if game_type == 0:\n",
    "            try:\n",
    "                game_deck.return_cards(p_new_hand_1)\n",
    "            except:\n",
    "                game_deck.return_cards(p_hand_1)\n",
    "            try:\n",
    "                game_deck.return_cards(d_new_hand)\n",
    "            except:\n",
    "                game_deck.return_cards(d_hand)\n",
    "            try:\n",
    "                game_deck.return_cards(p_new_hand_2)\n",
    "            except:\n",
    "                game_deck.return_cards(p_hand_2)\n",
    "        return np.array([out_1, out_2]), game_deck\n",
    "    else:\n",
    "        return \"No split\", game_deck"
   ]
  },
  {
   "cell_type": "code",
   "execution_count": 121,
   "metadata": {
    "ExecuteTime": {
     "end_time": "2017-03-15T09:08:14.617893",
     "start_time": "2017-03-15T09:08:14.611992"
    }
   },
   "outputs": [],
   "source": [
    "def card_value(card):\n",
    "    try:\n",
    "        return int(card)\n",
    "    except:\n",
    "        if card == \"A\":\n",
    "            return 1\n",
    "        else:\n",
    "            return 10"
   ]
  },
  {
   "cell_type": "code",
   "execution_count": 122,
   "metadata": {
    "ExecuteTime": {
     "end_time": "2017-03-15T09:08:14.974334",
     "start_time": "2017-03-15T09:08:14.943137"
    }
   },
   "outputs": [],
   "source": [
    "def play_game(game_deck, num_decks=4, strategy=0, soft=1, game_type=0):\n",
    "    d_hand = []\n",
    "    p_hand = []\n",
    "    \n",
    "    for _ in range(2):\n",
    "        game_deck.deal_card(p_hand)\n",
    "        game_deck.deal_card(d_hand)\n",
    "    \n",
    "    d_open = card_value(d_hand[0])\n",
    "    split = 0\n",
    "    if calc_points(p_hand) != 21 and calc_points(d_hand) != 21:\n",
    "        if (p_hand[0] == p_hand[1]):\n",
    "            out, deck = play_split(game_deck, p_hand, d_hand, d_open, num_decks, strategy=strategy, soft=soft, game_type=game_type)\n",
    "        else:\n",
    "            out = \"No split\"\n",
    "        if type(out) == str:\n",
    "            game_deck, p_hand, p_new_hand = player_turn(game_deck, d_open, p_hand, strategy=strategy)\n",
    "            if calc_points(p_new_hand) <= 21:\n",
    "                game_deck, d_hand, d_new_hand = dealer_turn(game_deck, d_hand, soft=soft)\n",
    "            else:\n",
    "                d_new_hand = d_hand.copy()\n",
    "            out = np.array([l_to_s(d_hand), l_to_s(d_new_hand), l_to_s(p_hand), l_to_s(p_new_hand), strategy, split, num_decks, soft])\n",
    "            if game_type == 0:\n",
    "                game_deck.return_cards(p_new_hand)\n",
    "                game_deck.return_cards(d_new_hand)\n",
    "    else:\n",
    "        p_new_hand = p_hand.copy()\n",
    "        d_new_hand = d_hand.copy()\n",
    "        out = np.array([l_to_s(d_hand), l_to_s(d_new_hand), l_to_s(p_hand), l_to_s(p_new_hand), strategy, split, num_decks, soft])\n",
    "        if game_type == 0:\n",
    "            game_deck.return_cards(p_new_hand)\n",
    "            game_deck.return_cards(d_new_hand)\n",
    "    \n",
    "    return out, game_deck"
   ]
  },
  {
   "cell_type": "code",
   "execution_count": 123,
   "metadata": {
    "ExecuteTime": {
     "end_time": "2017-03-15T09:08:15.434624",
     "start_time": "2017-03-15T09:08:15.427304"
    }
   },
   "outputs": [
    {
     "data": {
      "text/plain": [
       "(array(['2,4', '2,4,5,6', 'A,3', 'A,3', '1', '0', '4', '1'], dtype='<U7'),\n",
       " <__main__.GameDeck at 0x250540f5088>)"
      ]
     },
     "execution_count": 123,
     "metadata": {},
     "output_type": "execute_result"
    }
   ],
   "source": [
    "play_game(GameDeck(), strategy=1)"
   ]
  },
  {
   "cell_type": "code",
   "execution_count": 124,
   "metadata": {
    "ExecuteTime": {
     "end_time": "2017-03-15T09:08:15.716967",
     "start_time": "2017-03-15T09:08:15.709762"
    }
   },
   "outputs": [
    {
     "data": {
      "text/plain": [
       "array(['2,4', '2,4,5,6', 'A,3', 'A,3', '0', '0', '4', '1'], dtype='<U7')"
      ]
     },
     "execution_count": 124,
     "metadata": {},
     "output_type": "execute_result"
    }
   ],
   "source": [
    "a = play_game(GameDeck())[0]\n",
    "a"
   ]
  },
  {
   "cell_type": "code",
   "execution_count": 125,
   "metadata": {
    "ExecuteTime": {
     "end_time": "2017-03-15T09:08:16.087698",
     "start_time": "2017-03-15T09:08:16.084013"
    }
   },
   "outputs": [],
   "source": [
    "deck = GameDeck()"
   ]
  },
  {
   "cell_type": "code",
   "execution_count": 126,
   "metadata": {
    "ExecuteTime": {
     "end_time": "2017-03-15T09:08:16.461132",
     "start_time": "2017-03-15T09:08:16.457401"
    }
   },
   "outputs": [],
   "source": [
    "deck.shuffle_cards()"
   ]
  },
  {
   "cell_type": "code",
   "execution_count": 127,
   "metadata": {
    "ExecuteTime": {
     "end_time": "2017-03-15T09:08:16.864019",
     "start_time": "2017-03-15T09:08:16.856259"
    }
   },
   "outputs": [
    {
     "name": "stdout",
     "output_type": "stream",
     "text": [
      "[['2,9' '2,9,A,5' '5,8' '5,8,5,2' '0' '1' '4' '1']\n",
      " ['2,9' '2,9,A,5' '5,Q' '5,Q,A' '0' '1' '4' '1']]\n"
     ]
    }
   ],
   "source": [
    "a = np.array([1])\n",
    "while a.ndim < 2:\n",
    "    a, deck = play_game(deck)\n",
    "print (a)"
   ]
  },
  {
   "cell_type": "code",
   "execution_count": 128,
   "metadata": {
    "ExecuteTime": {
     "end_time": "2017-03-15T09:08:17.326047",
     "start_time": "2017-03-15T09:08:17.320692"
    }
   },
   "outputs": [
    {
     "data": {
      "text/plain": [
       "2"
      ]
     },
     "execution_count": 128,
     "metadata": {},
     "output_type": "execute_result"
    }
   ],
   "source": [
    "a.ndim"
   ]
  },
  {
   "cell_type": "markdown",
   "metadata": {},
   "source": [
    "# Generate cards"
   ]
  },
  {
   "cell_type": "markdown",
   "metadata": {},
   "source": [
    "- game_type\n",
    "    - 0: continuous shuffling\n",
    "    - 1: play full deck"
   ]
  },
  {
   "cell_type": "code",
   "execution_count": 129,
   "metadata": {
    "ExecuteTime": {
     "end_time": "2017-03-15T09:08:27.143323",
     "start_time": "2017-03-15T09:08:27.116175"
    }
   },
   "outputs": [],
   "source": [
    "def gen_df(num_games=5000, game_type=0):\n",
    "    data = []\n",
    "    deck = GameDeck()\n",
    "    deck.shuffle_cards()\n",
    "    if game_type == 0:\n",
    "        for _ in range(num_games):\n",
    "            try:\n",
    "                a, deck = play_game(deck, strategy=np.random.randint(2), soft=np.random.randint(2), game_type=game_type)\n",
    "                if a.ndim == 2:\n",
    "                    data.extend(a)\n",
    "                else:\n",
    "                    data.append(a)\n",
    "#                 print (deck)\n",
    "#                 print (a.ndim)\n",
    "            except:\n",
    "                print (\"Con error\")\n",
    "                print (a)\n",
    "                print (deck)\n",
    "                print ()\n",
    "    else:\n",
    "        while len(data) < num_games:\n",
    "            deck = GameDeck()\n",
    "            deck.shuffle_cards()\n",
    "            while len(deck.cards) > 10:\n",
    "                try:\n",
    "                    a, deck = play_game(deck, strategy=np.random.randint(2), soft=np.random.randint(2), game_type=game_type)\n",
    "                    if a.ndim == 2:\n",
    "                        data.extend(a)\n",
    "                    else:\n",
    "                        data.append(a)\n",
    "                except:\n",
    "                    print (\"One deck error\")\n",
    "                    print (a)\n",
    "                    print (deck)\n",
    "                    print ()\n",
    "\n",
    "    df = pd.DataFrame(data, columns=[\"d_hand\", \"d_final_hand\", \"p_hand\", \"p_final_hand\", \"strategy\", \"split\", \"num_decks\", \"soft_17\"])\n",
    "    df[\"game_type\"] = game_type\n",
    "    return df"
   ]
  },
  {
   "cell_type": "code",
   "execution_count": 130,
   "metadata": {
    "ExecuteTime": {
     "end_time": "2017-03-15T09:08:27.608341",
     "start_time": "2017-03-15T09:08:27.572999"
    }
   },
   "outputs": [],
   "source": [
    "out= gen_df(num_games=200, game_type=0)"
   ]
  },
  {
   "cell_type": "code",
   "execution_count": 131,
   "metadata": {
    "ExecuteTime": {
     "end_time": "2017-03-15T09:08:32.469870",
     "start_time": "2017-03-15T09:08:32.405442"
    }
   },
   "outputs": [
    {
     "data": {
      "text/html": [
       "<div>\n",
       "<style scoped>\n",
       "    .dataframe tbody tr th:only-of-type {\n",
       "        vertical-align: middle;\n",
       "    }\n",
       "\n",
       "    .dataframe tbody tr th {\n",
       "        vertical-align: top;\n",
       "    }\n",
       "\n",
       "    .dataframe thead th {\n",
       "        text-align: right;\n",
       "    }\n",
       "</style>\n",
       "<table border=\"1\" class=\"dataframe\">\n",
       "  <thead>\n",
       "    <tr style=\"text-align: right;\">\n",
       "      <th></th>\n",
       "      <th>d_hand</th>\n",
       "      <th>d_final_hand</th>\n",
       "      <th>p_hand</th>\n",
       "      <th>p_final_hand</th>\n",
       "      <th>strategy</th>\n",
       "      <th>split</th>\n",
       "      <th>num_decks</th>\n",
       "      <th>soft_17</th>\n",
       "      <th>game_type</th>\n",
       "    </tr>\n",
       "  </thead>\n",
       "  <tbody>\n",
       "    <tr>\n",
       "      <td>0</td>\n",
       "      <td>6,Q</td>\n",
       "      <td>6,Q,10</td>\n",
       "      <td>J,Q</td>\n",
       "      <td>J,Q</td>\n",
       "      <td>1</td>\n",
       "      <td>0</td>\n",
       "      <td>4</td>\n",
       "      <td>0</td>\n",
       "      <td>0</td>\n",
       "    </tr>\n",
       "    <tr>\n",
       "      <td>1</td>\n",
       "      <td>Q,4</td>\n",
       "      <td>Q,4</td>\n",
       "      <td>8,10</td>\n",
       "      <td>8,10,J</td>\n",
       "      <td>0</td>\n",
       "      <td>0</td>\n",
       "      <td>4</td>\n",
       "      <td>0</td>\n",
       "      <td>0</td>\n",
       "    </tr>\n",
       "    <tr>\n",
       "      <td>2</td>\n",
       "      <td>J,6</td>\n",
       "      <td>J,6</td>\n",
       "      <td>7,8</td>\n",
       "      <td>7,8,K</td>\n",
       "      <td>1</td>\n",
       "      <td>0</td>\n",
       "      <td>4</td>\n",
       "      <td>1</td>\n",
       "      <td>0</td>\n",
       "    </tr>\n",
       "    <tr>\n",
       "      <td>3</td>\n",
       "      <td>6,Q</td>\n",
       "      <td>6,Q,A</td>\n",
       "      <td>3,J</td>\n",
       "      <td>3,J</td>\n",
       "      <td>1</td>\n",
       "      <td>0</td>\n",
       "      <td>4</td>\n",
       "      <td>1</td>\n",
       "      <td>0</td>\n",
       "    </tr>\n",
       "    <tr>\n",
       "      <td>4</td>\n",
       "      <td>10,Q</td>\n",
       "      <td>10,Q</td>\n",
       "      <td>K,5</td>\n",
       "      <td>K,5,6</td>\n",
       "      <td>0</td>\n",
       "      <td>0</td>\n",
       "      <td>4</td>\n",
       "      <td>1</td>\n",
       "      <td>0</td>\n",
       "    </tr>\n",
       "    <tr>\n",
       "      <td>...</td>\n",
       "      <td>...</td>\n",
       "      <td>...</td>\n",
       "      <td>...</td>\n",
       "      <td>...</td>\n",
       "      <td>...</td>\n",
       "      <td>...</td>\n",
       "      <td>...</td>\n",
       "      <td>...</td>\n",
       "      <td>...</td>\n",
       "    </tr>\n",
       "    <tr>\n",
       "      <td>200</td>\n",
       "      <td>8,6</td>\n",
       "      <td>8,6,K</td>\n",
       "      <td>10,9</td>\n",
       "      <td>10,9</td>\n",
       "      <td>1</td>\n",
       "      <td>0</td>\n",
       "      <td>4</td>\n",
       "      <td>0</td>\n",
       "      <td>0</td>\n",
       "    </tr>\n",
       "    <tr>\n",
       "      <td>201</td>\n",
       "      <td>6,J</td>\n",
       "      <td>6,J,6</td>\n",
       "      <td>5,A</td>\n",
       "      <td>5,A</td>\n",
       "      <td>0</td>\n",
       "      <td>0</td>\n",
       "      <td>4</td>\n",
       "      <td>0</td>\n",
       "      <td>0</td>\n",
       "    </tr>\n",
       "    <tr>\n",
       "      <td>202</td>\n",
       "      <td>A,K</td>\n",
       "      <td>A,K</td>\n",
       "      <td>7,9</td>\n",
       "      <td>7,9</td>\n",
       "      <td>0</td>\n",
       "      <td>0</td>\n",
       "      <td>4</td>\n",
       "      <td>0</td>\n",
       "      <td>0</td>\n",
       "    </tr>\n",
       "    <tr>\n",
       "      <td>203</td>\n",
       "      <td>2,5</td>\n",
       "      <td>2,5</td>\n",
       "      <td>J,8</td>\n",
       "      <td>J,8,7</td>\n",
       "      <td>0</td>\n",
       "      <td>0</td>\n",
       "      <td>4</td>\n",
       "      <td>1</td>\n",
       "      <td>0</td>\n",
       "    </tr>\n",
       "    <tr>\n",
       "      <td>204</td>\n",
       "      <td>K,4</td>\n",
       "      <td>K,4,A,6</td>\n",
       "      <td>6,4</td>\n",
       "      <td>6,4,10</td>\n",
       "      <td>0</td>\n",
       "      <td>0</td>\n",
       "      <td>4</td>\n",
       "      <td>1</td>\n",
       "      <td>0</td>\n",
       "    </tr>\n",
       "  </tbody>\n",
       "</table>\n",
       "<p>205 rows × 9 columns</p>\n",
       "</div>"
      ],
      "text/plain": [
       "    d_hand d_final_hand p_hand p_final_hand strategy split num_decks soft_17  \\\n",
       "0    6,Q    6,Q,10       J,Q    J,Q          1        0     4         0        \n",
       "1    Q,4    Q,4          8,10   8,10,J       0        0     4         0        \n",
       "2    J,6    J,6          7,8    7,8,K        1        0     4         1        \n",
       "3    6,Q    6,Q,A        3,J    3,J          1        0     4         1        \n",
       "4    10,Q   10,Q         K,5    K,5,6        0        0     4         1        \n",
       "..    ...    ...         ...      ...       ..       ..    ..        ..        \n",
       "200  8,6    8,6,K        10,9   10,9         1        0     4         0        \n",
       "201  6,J    6,J,6        5,A    5,A          0        0     4         0        \n",
       "202  A,K    A,K          7,9    7,9          0        0     4         0        \n",
       "203  2,5    2,5          J,8    J,8,7        0        0     4         1        \n",
       "204  K,4    K,4,A,6      6,4    6,4,10       0        0     4         1        \n",
       "\n",
       "     game_type  \n",
       "0    0          \n",
       "1    0          \n",
       "2    0          \n",
       "3    0          \n",
       "4    0          \n",
       "..  ..          \n",
       "200  0          \n",
       "201  0          \n",
       "202  0          \n",
       "203  0          \n",
       "204  0          \n",
       "\n",
       "[205 rows x 9 columns]"
      ]
     },
     "execution_count": 131,
     "metadata": {},
     "output_type": "execute_result"
    }
   ],
   "source": [
    "out"
   ]
  },
  {
   "cell_type": "markdown",
   "metadata": {},
   "source": [
    "# Add columns"
   ]
  },
  {
   "cell_type": "code",
   "execution_count": 132,
   "metadata": {
    "ExecuteTime": {
     "end_time": "2017-03-15T09:08:33.418803",
     "start_time": "2017-03-15T09:08:33.394263"
    }
   },
   "outputs": [],
   "source": [
    "def add_columns(original):\n",
    "    df = original.copy()\n",
    "    df[\"strategy\"] = df[\"strategy\"].astype(int)\n",
    "    df[\"split\"] = df[\"split\"].astype(int)\n",
    "    df[\"num_decks\"] = df[\"num_decks\"].astype(int)\n",
    "    df[\"soft_17\"] = df[\"soft_17\"].astype(int)\n",
    "    \n",
    "    df[\"d_open\"] = df[\"d_hand\"].apply(lambda x: card_value(x.split(\",\")[0]))\n",
    "    df[\"d_initial\"] = df[\"d_hand\"].apply(calc_points)\n",
    "    df[\"d_final\"] = df[\"d_final_hand\"].apply(calc_points)\n",
    "    df[\"d_hit\"] = df[\"d_final\"]-df[\"d_initial\"] > 0\n",
    "    df[\"d_hit\"] = df[\"d_hit\"].astype(int)\n",
    "    df[\"d_bust\"] = df[\"d_final\"] > 21\n",
    "    df[\"d_bust\"] = df[\"d_bust\"].astype(int)\n",
    "    \n",
    "    df[\"p_initial\"] = df[\"p_hand\"].apply(calc_points)\n",
    "    df[\"p_final\"] = df[\"p_final_hand\"].apply(calc_points)\n",
    "    df[\"p_hit\"] = df[\"p_final\"]-df[\"p_initial\"] > 0\n",
    "    df[\"p_hit\"] = df[\"p_hit\"].astype(int)\n",
    "    df[\"p_bust\"] = df[\"p_final\"] > 21\n",
    "    df[\"p_bust\"] = df[\"p_bust\"].astype(int)\n",
    "    \n",
    "    df[\"p_win\"] = (df[\"p_final\"] > df[\"d_final\"]) & (df[\"p_bust\"] == 0) | (df[\"d_bust\"] == 1)\n",
    "    df[\"p_win\"] = df[\"p_win\"].astype(int)\n",
    "\n",
    "    return df"
   ]
  },
  {
   "cell_type": "markdown",
   "metadata": {},
   "source": [
    "# Generate CSVs"
   ]
  },
  {
   "cell_type": "code",
   "execution_count": 133,
   "metadata": {
    "ExecuteTime": {
     "end_time": "2017-03-15T09:09:39.552897",
     "start_time": "2017-03-15T09:09:38.392686"
    }
   },
   "outputs": [],
   "source": [
    "con = gen_df(game_type=0)\n",
    "\n",
    "con.shape\n",
    "\n",
    "one = gen_df(game_type=1)\n",
    "\n",
    "one.shape\n",
    "\n",
    "df = pd.concat([con,one])"
   ]
  },
  {
   "cell_type": "code",
   "execution_count": 134,
   "metadata": {
    "ExecuteTime": {
     "end_time": "2017-03-15T09:09:39.561526",
     "start_time": "2017-03-15T09:09:39.554914"
    }
   },
   "outputs": [
    {
     "data": {
      "text/plain": [
       "(10075, 9)"
      ]
     },
     "execution_count": 134,
     "metadata": {},
     "output_type": "execute_result"
    }
   ],
   "source": [
    "df.shape"
   ]
  },
  {
   "cell_type": "code",
   "execution_count": 135,
   "metadata": {
    "ExecuteTime": {
     "end_time": "2017-03-15T09:09:40.572911",
     "start_time": "2017-03-15T09:09:40.256950"
    }
   },
   "outputs": [],
   "source": [
    "try:\n",
    "    old_df = pd.read_csv(\"cards.csv\")\n",
    "    df = pd.concat([df, old_df])\n",
    "except:\n",
    "    pass\n",
    "df.to_csv(\"cards.csv\", index=False)"
   ]
  },
  {
   "cell_type": "code",
   "execution_count": 136,
   "metadata": {
    "ExecuteTime": {
     "end_time": "2017-03-15T13:30:23.424662",
     "start_time": "2017-03-15T13:30:23.324610"
    }
   },
   "outputs": [],
   "source": [
    "df = pd.read_csv(\"cards.csv\")"
   ]
  },
  {
   "cell_type": "code",
   "execution_count": 137,
   "metadata": {
    "ExecuteTime": {
     "end_time": "2017-03-15T13:30:23.946209",
     "start_time": "2017-03-15T13:30:23.940310"
    }
   },
   "outputs": [
    {
     "data": {
      "text/plain": [
       "(100819, 9)"
      ]
     },
     "execution_count": 137,
     "metadata": {},
     "output_type": "execute_result"
    }
   ],
   "source": [
    "df.shape"
   ]
  },
  {
   "cell_type": "code",
   "execution_count": 138,
   "metadata": {
    "ExecuteTime": {
     "end_time": "2017-03-15T13:30:26.870561",
     "start_time": "2017-03-15T13:30:24.924406"
    }
   },
   "outputs": [],
   "source": [
    "df2 = add_columns(df)"
   ]
  },
  {
   "cell_type": "code",
   "execution_count": 139,
   "metadata": {
    "ExecuteTime": {
     "end_time": "2017-03-15T13:30:28.214802",
     "start_time": "2017-03-15T13:30:27.379981"
    }
   },
   "outputs": [],
   "source": [
    "df2.to_csv(\"blackjack_data.csv\", index=False)"
   ]
  },
  {
   "cell_type": "markdown",
   "metadata": {},
   "source": [
    "# Test data"
   ]
  },
  {
   "cell_type": "code",
   "execution_count": 140,
   "metadata": {
    "ExecuteTime": {
     "end_time": "2017-03-15T09:13:52.782185",
     "start_time": "2017-03-15T09:13:52.637269"
    }
   },
   "outputs": [
    {
     "data": {
      "text/html": [
       "<div>\n",
       "<style scoped>\n",
       "    .dataframe tbody tr th:only-of-type {\n",
       "        vertical-align: middle;\n",
       "    }\n",
       "\n",
       "    .dataframe tbody tr th {\n",
       "        vertical-align: top;\n",
       "    }\n",
       "\n",
       "    .dataframe thead th {\n",
       "        text-align: right;\n",
       "    }\n",
       "</style>\n",
       "<table border=\"1\" class=\"dataframe\">\n",
       "  <thead>\n",
       "    <tr style=\"text-align: right;\">\n",
       "      <th></th>\n",
       "      <th>strategy</th>\n",
       "      <th>split</th>\n",
       "      <th>num_decks</th>\n",
       "      <th>soft_17</th>\n",
       "      <th>game_type</th>\n",
       "      <th>d_open</th>\n",
       "      <th>d_initial</th>\n",
       "      <th>d_final</th>\n",
       "      <th>d_hit</th>\n",
       "      <th>d_bust</th>\n",
       "      <th>p_initial</th>\n",
       "      <th>p_final</th>\n",
       "      <th>p_hit</th>\n",
       "      <th>p_bust</th>\n",
       "      <th>p_win</th>\n",
       "    </tr>\n",
       "  </thead>\n",
       "  <tbody>\n",
       "    <tr>\n",
       "      <td>count</td>\n",
       "      <td>100819.000000</td>\n",
       "      <td>100819.000000</td>\n",
       "      <td>100819.0</td>\n",
       "      <td>100819.000000</td>\n",
       "      <td>100819.000000</td>\n",
       "      <td>100819.000000</td>\n",
       "      <td>100819.000000</td>\n",
       "      <td>100819.000000</td>\n",
       "      <td>100819.000000</td>\n",
       "      <td>100819.000000</td>\n",
       "      <td>100819.000000</td>\n",
       "      <td>100819.000000</td>\n",
       "      <td>100819.000000</td>\n",
       "      <td>100819.000000</td>\n",
       "      <td>100819.000000</td>\n",
       "    </tr>\n",
       "    <tr>\n",
       "      <td>mean</td>\n",
       "      <td>0.494718</td>\n",
       "      <td>0.031403</td>\n",
       "      <td>4.0</td>\n",
       "      <td>0.499380</td>\n",
       "      <td>0.496236</td>\n",
       "      <td>6.530049</td>\n",
       "      <td>14.558010</td>\n",
       "      <td>19.193644</td>\n",
       "      <td>0.524445</td>\n",
       "      <td>0.225940</td>\n",
       "      <td>14.596743</td>\n",
       "      <td>18.420427</td>\n",
       "      <td>0.444152</td>\n",
       "      <td>0.167409</td>\n",
       "      <td>0.417044</td>\n",
       "    </tr>\n",
       "    <tr>\n",
       "      <td>std</td>\n",
       "      <td>0.499975</td>\n",
       "      <td>0.174405</td>\n",
       "      <td>0.0</td>\n",
       "      <td>0.500002</td>\n",
       "      <td>0.499988</td>\n",
       "      <td>3.143105</td>\n",
       "      <td>4.049339</td>\n",
       "      <td>3.627540</td>\n",
       "      <td>0.499405</td>\n",
       "      <td>0.418202</td>\n",
       "      <td>4.033026</td>\n",
       "      <td>3.779121</td>\n",
       "      <td>0.496874</td>\n",
       "      <td>0.373342</td>\n",
       "      <td>0.493073</td>\n",
       "    </tr>\n",
       "    <tr>\n",
       "      <td>min</td>\n",
       "      <td>0.000000</td>\n",
       "      <td>0.000000</td>\n",
       "      <td>4.0</td>\n",
       "      <td>0.000000</td>\n",
       "      <td>0.000000</td>\n",
       "      <td>1.000000</td>\n",
       "      <td>4.000000</td>\n",
       "      <td>4.000000</td>\n",
       "      <td>0.000000</td>\n",
       "      <td>0.000000</td>\n",
       "      <td>4.000000</td>\n",
       "      <td>4.000000</td>\n",
       "      <td>0.000000</td>\n",
       "      <td>0.000000</td>\n",
       "      <td>0.000000</td>\n",
       "    </tr>\n",
       "    <tr>\n",
       "      <td>25%</td>\n",
       "      <td>0.000000</td>\n",
       "      <td>0.000000</td>\n",
       "      <td>4.0</td>\n",
       "      <td>0.000000</td>\n",
       "      <td>0.000000</td>\n",
       "      <td>4.000000</td>\n",
       "      <td>12.000000</td>\n",
       "      <td>17.000000</td>\n",
       "      <td>0.000000</td>\n",
       "      <td>0.000000</td>\n",
       "      <td>12.000000</td>\n",
       "      <td>16.000000</td>\n",
       "      <td>0.000000</td>\n",
       "      <td>0.000000</td>\n",
       "      <td>0.000000</td>\n",
       "    </tr>\n",
       "    <tr>\n",
       "      <td>50%</td>\n",
       "      <td>0.000000</td>\n",
       "      <td>0.000000</td>\n",
       "      <td>4.0</td>\n",
       "      <td>0.000000</td>\n",
       "      <td>0.000000</td>\n",
       "      <td>7.000000</td>\n",
       "      <td>15.000000</td>\n",
       "      <td>19.000000</td>\n",
       "      <td>1.000000</td>\n",
       "      <td>0.000000</td>\n",
       "      <td>15.000000</td>\n",
       "      <td>19.000000</td>\n",
       "      <td>0.000000</td>\n",
       "      <td>0.000000</td>\n",
       "      <td>0.000000</td>\n",
       "    </tr>\n",
       "    <tr>\n",
       "      <td>75%</td>\n",
       "      <td>1.000000</td>\n",
       "      <td>0.000000</td>\n",
       "      <td>4.0</td>\n",
       "      <td>1.000000</td>\n",
       "      <td>1.000000</td>\n",
       "      <td>10.000000</td>\n",
       "      <td>18.000000</td>\n",
       "      <td>21.000000</td>\n",
       "      <td>1.000000</td>\n",
       "      <td>0.000000</td>\n",
       "      <td>18.000000</td>\n",
       "      <td>21.000000</td>\n",
       "      <td>1.000000</td>\n",
       "      <td>0.000000</td>\n",
       "      <td>1.000000</td>\n",
       "    </tr>\n",
       "    <tr>\n",
       "      <td>max</td>\n",
       "      <td>1.000000</td>\n",
       "      <td>1.000000</td>\n",
       "      <td>4.0</td>\n",
       "      <td>1.000000</td>\n",
       "      <td>1.000000</td>\n",
       "      <td>10.000000</td>\n",
       "      <td>21.000000</td>\n",
       "      <td>26.000000</td>\n",
       "      <td>1.000000</td>\n",
       "      <td>1.000000</td>\n",
       "      <td>21.000000</td>\n",
       "      <td>28.000000</td>\n",
       "      <td>1.000000</td>\n",
       "      <td>1.000000</td>\n",
       "      <td>1.000000</td>\n",
       "    </tr>\n",
       "  </tbody>\n",
       "</table>\n",
       "</div>"
      ],
      "text/plain": [
       "            strategy          split  num_decks        soft_17      game_type  \\\n",
       "count  100819.000000  100819.000000  100819.0   100819.000000  100819.000000   \n",
       "mean   0.494718       0.031403       4.0        0.499380       0.496236        \n",
       "std    0.499975       0.174405       0.0        0.500002       0.499988        \n",
       "min    0.000000       0.000000       4.0        0.000000       0.000000        \n",
       "25%    0.000000       0.000000       4.0        0.000000       0.000000        \n",
       "50%    0.000000       0.000000       4.0        0.000000       0.000000        \n",
       "75%    1.000000       0.000000       4.0        1.000000       1.000000        \n",
       "max    1.000000       1.000000       4.0        1.000000       1.000000        \n",
       "\n",
       "              d_open      d_initial        d_final          d_hit  \\\n",
       "count  100819.000000  100819.000000  100819.000000  100819.000000   \n",
       "mean   6.530049       14.558010      19.193644      0.524445        \n",
       "std    3.143105       4.049339       3.627540       0.499405        \n",
       "min    1.000000       4.000000       4.000000       0.000000        \n",
       "25%    4.000000       12.000000      17.000000      0.000000        \n",
       "50%    7.000000       15.000000      19.000000      1.000000        \n",
       "75%    10.000000      18.000000      21.000000      1.000000        \n",
       "max    10.000000      21.000000      26.000000      1.000000        \n",
       "\n",
       "              d_bust      p_initial        p_final          p_hit  \\\n",
       "count  100819.000000  100819.000000  100819.000000  100819.000000   \n",
       "mean   0.225940       14.596743      18.420427      0.444152        \n",
       "std    0.418202       4.033026       3.779121       0.496874        \n",
       "min    0.000000       4.000000       4.000000       0.000000        \n",
       "25%    0.000000       12.000000      16.000000      0.000000        \n",
       "50%    0.000000       15.000000      19.000000      0.000000        \n",
       "75%    0.000000       18.000000      21.000000      1.000000        \n",
       "max    1.000000       21.000000      28.000000      1.000000        \n",
       "\n",
       "              p_bust          p_win  \n",
       "count  100819.000000  100819.000000  \n",
       "mean   0.167409       0.417044       \n",
       "std    0.373342       0.493073       \n",
       "min    0.000000       0.000000       \n",
       "25%    0.000000       0.000000       \n",
       "50%    0.000000       0.000000       \n",
       "75%    0.000000       1.000000       \n",
       "max    1.000000       1.000000       "
      ]
     },
     "execution_count": 140,
     "metadata": {},
     "output_type": "execute_result"
    }
   ],
   "source": [
    "df2.describe()"
   ]
  },
  {
   "cell_type": "markdown",
   "metadata": {},
   "source": [
    "## Check hands and points"
   ]
  },
  {
   "cell_type": "code",
   "execution_count": 141,
   "metadata": {
    "ExecuteTime": {
     "end_time": "2017-03-15T09:13:53.555271",
     "start_time": "2017-03-15T09:13:53.545923"
    }
   },
   "outputs": [
    {
     "name": "stdout",
     "output_type": "stream",
     "text": [
      "[['J,4' 14]\n",
      " ['J,A' 21]\n",
      " ['4,8' 12]\n",
      " ['K,J' 20]\n",
      " ['9,5' 14]]\n"
     ]
    },
    {
     "name": "stderr",
     "output_type": "stream",
     "text": [
      "C:\\Users\\gaom0\\Anaconda3\\lib\\site-packages\\ipykernel_launcher.py:1: FutureWarning: Method .as_matrix will be removed in a future version. Use .values instead.\n",
      "  \"\"\"Entry point for launching an IPython kernel.\n"
     ]
    }
   ],
   "source": [
    "print (df2[[\"d_hand\", \"d_initial\"]].as_matrix()[np.random.randint(len(df2), size=5)])"
   ]
  },
  {
   "cell_type": "code",
   "execution_count": 142,
   "metadata": {
    "ExecuteTime": {
     "end_time": "2017-03-15T09:13:54.236924",
     "start_time": "2017-03-15T09:13:54.226384"
    }
   },
   "outputs": [
    {
     "name": "stdout",
     "output_type": "stream",
     "text": [
      "[['J,6,Q' 26]\n",
      " ['7,Q' 17]\n",
      " ['2,9,8' 19]\n",
      " ['J,J' 20]\n",
      " ['K,7' 17]]\n"
     ]
    },
    {
     "name": "stderr",
     "output_type": "stream",
     "text": [
      "C:\\Users\\gaom0\\Anaconda3\\lib\\site-packages\\ipykernel_launcher.py:1: FutureWarning: Method .as_matrix will be removed in a future version. Use .values instead.\n",
      "  \"\"\"Entry point for launching an IPython kernel.\n"
     ]
    }
   ],
   "source": [
    "print (df2[[\"d_final_hand\", \"d_final\"]].as_matrix()[np.random.randint(len(df2), size=5)])"
   ]
  },
  {
   "cell_type": "code",
   "execution_count": 143,
   "metadata": {
    "ExecuteTime": {
     "end_time": "2017-03-15T09:13:55.940115",
     "start_time": "2017-03-15T09:13:55.930042"
    }
   },
   "outputs": [
    {
     "name": "stdout",
     "output_type": "stream",
     "text": [
      "[['10,9' 19]\n",
      " ['2,Q' 12]\n",
      " ['2,6' 8]\n",
      " ['2,4' 6]\n",
      " ['7,8' 15]]\n"
     ]
    },
    {
     "name": "stderr",
     "output_type": "stream",
     "text": [
      "C:\\Users\\gaom0\\Anaconda3\\lib\\site-packages\\ipykernel_launcher.py:1: FutureWarning: Method .as_matrix will be removed in a future version. Use .values instead.\n",
      "  \"\"\"Entry point for launching an IPython kernel.\n"
     ]
    }
   ],
   "source": [
    "print (df2[[\"p_hand\", \"p_initial\"]].as_matrix()[np.random.randint(len(df2), size=5)])"
   ]
  },
  {
   "cell_type": "code",
   "execution_count": 144,
   "metadata": {
    "ExecuteTime": {
     "end_time": "2017-03-15T09:13:57.565376",
     "start_time": "2017-03-15T09:13:57.555021"
    }
   },
   "outputs": [
    {
     "name": "stdout",
     "output_type": "stream",
     "text": [
      "[['6,J' 16]\n",
      " ['7,K,9' 26]\n",
      " ['10,Q' 20]\n",
      " ['3,Q,9' 22]\n",
      " ['6,3,J' 19]]\n"
     ]
    },
    {
     "name": "stderr",
     "output_type": "stream",
     "text": [
      "C:\\Users\\gaom0\\Anaconda3\\lib\\site-packages\\ipykernel_launcher.py:1: FutureWarning: Method .as_matrix will be removed in a future version. Use .values instead.\n",
      "  \"\"\"Entry point for launching an IPython kernel.\n"
     ]
    }
   ],
   "source": [
    "print (df2[[\"p_final_hand\", \"p_final\"]].as_matrix()[np.random.randint(len(df2), size=5)])"
   ]
  },
  {
   "cell_type": "markdown",
   "metadata": {},
   "source": [
    "## If p_bust = 1, p_win = 0"
   ]
  },
  {
   "cell_type": "code",
   "execution_count": 145,
   "metadata": {
    "ExecuteTime": {
     "end_time": "2017-03-15T09:14:13.975044",
     "start_time": "2017-03-15T09:14:13.622523"
    }
   },
   "outputs": [
    {
     "data": {
      "text/plain": [
       "0    16878\n",
       "Name: p_win, dtype: int64"
      ]
     },
     "execution_count": 145,
     "metadata": {},
     "output_type": "execute_result"
    }
   ],
   "source": [
    "df2.p_win[df2[\"p_bust\"] == 1].value_counts()"
   ]
  },
  {
   "cell_type": "markdown",
   "metadata": {},
   "source": [
    "## If d_bust = 1, p_win = 1"
   ]
  },
  {
   "cell_type": "code",
   "execution_count": 146,
   "metadata": {
    "ExecuteTime": {
     "end_time": "2017-03-15T09:14:18.732142",
     "start_time": "2017-03-15T09:14:18.719827"
    }
   },
   "outputs": [
    {
     "data": {
      "text/plain": [
       "1    22779\n",
       "Name: p_win, dtype: int64"
      ]
     },
     "execution_count": 146,
     "metadata": {},
     "output_type": "execute_result"
    }
   ],
   "source": [
    "df2.p_win[df2[\"d_bust\"] == 1].value_counts()"
   ]
  },
  {
   "cell_type": "markdown",
   "metadata": {},
   "source": [
    "## If soft_17 = 1, then when d_final == 17, it's not a soft 17"
   ]
  },
  {
   "cell_type": "markdown",
   "metadata": {},
   "source": [
    "- If dealer is required to hit on soft 17\n",
    "    - If player didn't get blackjack\n",
    "    - If player didn't bust\n",
    "    - Dealer should not have a soft 17 final hand"
   ]
  },
  {
   "cell_type": "code",
   "execution_count": 147,
   "metadata": {
    "ExecuteTime": {
     "end_time": "2017-03-15T09:14:23.728528",
     "start_time": "2017-03-15T09:14:23.589400"
    }
   },
   "outputs": [
    {
     "name": "stderr",
     "output_type": "stream",
     "text": [
      "C:\\Users\\gaom0\\Anaconda3\\lib\\site-packages\\ipykernel_launcher.py:2: FutureWarning: \n",
      ".ix is deprecated. Please use\n",
      ".loc for label based indexing or\n",
      ".iloc for positional indexing\n",
      "\n",
      "See the documentation here:\n",
      "http://pandas.pydata.org/pandas-docs/stable/user_guide/indexing.html#ix-indexer-is-deprecated\n",
      "  \n"
     ]
    }
   ],
   "source": [
    "for i in df2.d_final_hand[(df2.soft_17 == 1) & (df2.d_final == 17)].index:\n",
    "    if soft_17(df2.ix[i, \"d_final_hand\"]) and df2.ix[i,\"p_bust\"] == 0 and df2.ix[i,\"p_initial\"] != 21:\n",
    "        print (df2.ix[i])"
   ]
  },
  {
   "cell_type": "markdown",
   "metadata": {},
   "source": [
    "## If no one busted, the higher point wins"
   ]
  },
  {
   "cell_type": "code",
   "execution_count": 148,
   "metadata": {
    "ExecuteTime": {
     "end_time": "2017-03-15T09:14:29.798328",
     "start_time": "2017-03-15T09:14:29.787097"
    }
   },
   "outputs": [],
   "source": [
    "sub = df2[(df2.p_bust == 0) & (df2.d_bust == 0) & (df2.p_win == 1)]"
   ]
  },
  {
   "cell_type": "code",
   "execution_count": 149,
   "metadata": {
    "ExecuteTime": {
     "end_time": "2017-03-15T09:14:30.209272",
     "start_time": "2017-03-15T09:14:30.198682"
    }
   },
   "outputs": [
    {
     "data": {
      "text/plain": [
       "True    19267\n",
       "dtype: int64"
      ]
     },
     "execution_count": 149,
     "metadata": {},
     "output_type": "execute_result"
    }
   ],
   "source": [
    "(sub.p_final > sub.d_final).value_counts()"
   ]
  },
  {
   "cell_type": "code",
   "execution_count": 150,
   "metadata": {
    "ExecuteTime": {
     "end_time": "2017-03-15T09:14:30.610288",
     "start_time": "2017-03-15T09:14:30.597306"
    }
   },
   "outputs": [],
   "source": [
    "sub = df2[(df2.p_bust == 0) & (df2.d_bust == 0) & (df2.p_win == 0)]"
   ]
  },
  {
   "cell_type": "code",
   "execution_count": 151,
   "metadata": {
    "ExecuteTime": {
     "end_time": "2017-03-15T09:14:31.046342",
     "start_time": "2017-03-15T09:14:31.035995"
    }
   },
   "outputs": [
    {
     "data": {
      "text/plain": [
       "True    41895\n",
       "dtype: int64"
      ]
     },
     "execution_count": 151,
     "metadata": {},
     "output_type": "execute_result"
    }
   ],
   "source": [
    "(sub.p_final <= sub.d_final).value_counts()"
   ]
  },
  {
   "cell_type": "markdown",
   "metadata": {},
   "source": [
    "## If playing the recommended strategy, player should not hit on 17 and above"
   ]
  },
  {
   "cell_type": "code",
   "execution_count": 152,
   "metadata": {
    "ExecuteTime": {
     "end_time": "2017-03-15T09:14:32.371355",
     "start_time": "2017-03-15T09:14:32.359567"
    }
   },
   "outputs": [
    {
     "data": {
      "text/plain": [
       "0    17548\n",
       "Name: p_hit, dtype: int64"
      ]
     },
     "execution_count": 152,
     "metadata": {},
     "output_type": "execute_result"
    }
   ],
   "source": [
    "df2.p_hit[(df2.p_initial >= 17) & (df2.strategy==1)].value_counts()"
   ]
  },
  {
   "cell_type": "markdown",
   "metadata": {},
   "source": [
    "## If playing the recommended strategy, player should not hit on 12-16 if the dealer is showing 6 and below"
   ]
  },
  {
   "cell_type": "code",
   "execution_count": 153,
   "metadata": {
    "ExecuteTime": {
     "end_time": "2017-03-15T09:14:33.288108",
     "start_time": "2017-03-15T09:14:33.274732"
    }
   },
   "outputs": [
    {
     "data": {
      "text/plain": [
       "0    10045\n",
       "Name: p_hit, dtype: int64"
      ]
     },
     "execution_count": 153,
     "metadata": {},
     "output_type": "execute_result"
    }
   ],
   "source": [
    "df2.p_hit[(df2.p_initial<17) & (df2.p_initial>11) & (df2.d_open<=6) & (df2.strategy==1)].value_counts()"
   ]
  },
  {
   "cell_type": "markdown",
   "metadata": {},
   "source": [
    "# Data dictionary"
   ]
  },
  {
   "cell_type": "code",
   "execution_count": 154,
   "metadata": {
    "ExecuteTime": {
     "end_time": "2017-03-15T09:21:45.235327",
     "start_time": "2017-03-15T09:21:45.229167"
    }
   },
   "outputs": [
    {
     "data": {
      "text/plain": [
       "Index(['d_hand', 'd_final_hand', 'p_hand', 'p_final_hand', 'strategy', 'split',\n",
       "       'num_decks', 'soft_17', 'game_type', 'd_open', 'd_initial', 'd_final',\n",
       "       'd_hit', 'd_bust', 'p_initial', 'p_final', 'p_hit', 'p_bust', 'p_win'],\n",
       "      dtype='object')"
      ]
     },
     "execution_count": 154,
     "metadata": {},
     "output_type": "execute_result"
    }
   ],
   "source": [
    "df2.columns"
   ]
  },
  {
   "cell_type": "raw",
   "metadata": {
    "ExecuteTime": {
     "end_time": "2017-03-15T09:24:01.754246",
     "start_time": "2017-03-15T09:24:01.749453"
    }
   },
   "source": [
    "data_dict = pd.DataFrame(df2.columns, columns=[\"feature\"])"
   ]
  },
  {
   "cell_type": "raw",
   "metadata": {
    "ExecuteTime": {
     "end_time": "2017-03-15T09:23:18.593096",
     "start_time": "2017-03-15T09:23:18.588066"
    }
   },
   "source": [
    "data_dict.to_csv(\"data_dictionary.csv\", index=False)"
   ]
  },
  {
   "cell_type": "code",
   "execution_count": 156,
   "metadata": {
    "ExecuteTime": {
     "end_time": "2017-03-15T09:24:34.672687",
     "start_time": "2017-03-15T09:24:34.645016"
    }
   },
   "outputs": [
    {
     "data": {
      "text/html": [
       "<div>\n",
       "<style scoped>\n",
       "    .dataframe tbody tr th:only-of-type {\n",
       "        vertical-align: middle;\n",
       "    }\n",
       "\n",
       "    .dataframe tbody tr th {\n",
       "        vertical-align: top;\n",
       "    }\n",
       "\n",
       "    .dataframe thead th {\n",
       "        text-align: right;\n",
       "    }\n",
       "</style>\n",
       "<table border=\"1\" class=\"dataframe\">\n",
       "  <thead>\n",
       "    <tr style=\"text-align: right;\">\n",
       "      <th></th>\n",
       "      <th>d_hand</th>\n",
       "      <th>d_final_hand</th>\n",
       "      <th>p_hand</th>\n",
       "      <th>p_final_hand</th>\n",
       "      <th>strategy</th>\n",
       "      <th>split</th>\n",
       "      <th>num_decks</th>\n",
       "      <th>soft_17</th>\n",
       "      <th>game_type</th>\n",
       "      <th>d_open</th>\n",
       "      <th>d_initial</th>\n",
       "      <th>d_final</th>\n",
       "      <th>d_hit</th>\n",
       "      <th>d_bust</th>\n",
       "      <th>p_initial</th>\n",
       "      <th>p_final</th>\n",
       "      <th>p_hit</th>\n",
       "      <th>p_bust</th>\n",
       "      <th>p_win</th>\n",
       "    </tr>\n",
       "  </thead>\n",
       "  <tbody>\n",
       "    <tr>\n",
       "      <td>0</td>\n",
       "      <td>2,9</td>\n",
       "      <td>2,9,8</td>\n",
       "      <td>4,Q</td>\n",
       "      <td>4,Q</td>\n",
       "      <td>1</td>\n",
       "      <td>0</td>\n",
       "      <td>4</td>\n",
       "      <td>0</td>\n",
       "      <td>0</td>\n",
       "      <td>2</td>\n",
       "      <td>11</td>\n",
       "      <td>19</td>\n",
       "      <td>1</td>\n",
       "      <td>0</td>\n",
       "      <td>14</td>\n",
       "      <td>14</td>\n",
       "      <td>0</td>\n",
       "      <td>0</td>\n",
       "      <td>0</td>\n",
       "    </tr>\n",
       "    <tr>\n",
       "      <td>1</td>\n",
       "      <td>K,3</td>\n",
       "      <td>K,3,3,Q</td>\n",
       "      <td>7,6</td>\n",
       "      <td>7,6,6</td>\n",
       "      <td>0</td>\n",
       "      <td>0</td>\n",
       "      <td>4</td>\n",
       "      <td>0</td>\n",
       "      <td>0</td>\n",
       "      <td>10</td>\n",
       "      <td>13</td>\n",
       "      <td>26</td>\n",
       "      <td>1</td>\n",
       "      <td>1</td>\n",
       "      <td>13</td>\n",
       "      <td>19</td>\n",
       "      <td>1</td>\n",
       "      <td>0</td>\n",
       "      <td>1</td>\n",
       "    </tr>\n",
       "    <tr>\n",
       "      <td>2</td>\n",
       "      <td>9,10</td>\n",
       "      <td>9,10</td>\n",
       "      <td>4,5</td>\n",
       "      <td>4,5,Q</td>\n",
       "      <td>0</td>\n",
       "      <td>0</td>\n",
       "      <td>4</td>\n",
       "      <td>0</td>\n",
       "      <td>0</td>\n",
       "      <td>9</td>\n",
       "      <td>19</td>\n",
       "      <td>19</td>\n",
       "      <td>0</td>\n",
       "      <td>0</td>\n",
       "      <td>9</td>\n",
       "      <td>19</td>\n",
       "      <td>1</td>\n",
       "      <td>0</td>\n",
       "      <td>0</td>\n",
       "    </tr>\n",
       "    <tr>\n",
       "      <td>3</td>\n",
       "      <td>Q,9</td>\n",
       "      <td>Q,9</td>\n",
       "      <td>K,A</td>\n",
       "      <td>K,A</td>\n",
       "      <td>0</td>\n",
       "      <td>0</td>\n",
       "      <td>4</td>\n",
       "      <td>0</td>\n",
       "      <td>0</td>\n",
       "      <td>10</td>\n",
       "      <td>19</td>\n",
       "      <td>19</td>\n",
       "      <td>0</td>\n",
       "      <td>0</td>\n",
       "      <td>21</td>\n",
       "      <td>21</td>\n",
       "      <td>0</td>\n",
       "      <td>0</td>\n",
       "      <td>1</td>\n",
       "    </tr>\n",
       "    <tr>\n",
       "      <td>4</td>\n",
       "      <td>4,Q</td>\n",
       "      <td>4,Q,2,Q</td>\n",
       "      <td>7,9</td>\n",
       "      <td>7,9,4</td>\n",
       "      <td>0</td>\n",
       "      <td>0</td>\n",
       "      <td>4</td>\n",
       "      <td>0</td>\n",
       "      <td>0</td>\n",
       "      <td>4</td>\n",
       "      <td>14</td>\n",
       "      <td>26</td>\n",
       "      <td>1</td>\n",
       "      <td>1</td>\n",
       "      <td>16</td>\n",
       "      <td>20</td>\n",
       "      <td>1</td>\n",
       "      <td>0</td>\n",
       "      <td>1</td>\n",
       "    </tr>\n",
       "  </tbody>\n",
       "</table>\n",
       "</div>"
      ],
      "text/plain": [
       "  d_hand d_final_hand p_hand p_final_hand  strategy  split  num_decks  \\\n",
       "0  2,9    2,9,8        4,Q    4,Q          1         0      4           \n",
       "1  K,3    K,3,3,Q      7,6    7,6,6        0         0      4           \n",
       "2  9,10   9,10         4,5    4,5,Q        0         0      4           \n",
       "3  Q,9    Q,9          K,A    K,A          0         0      4           \n",
       "4  4,Q    4,Q,2,Q      7,9    7,9,4        0         0      4           \n",
       "\n",
       "   soft_17  game_type  d_open  d_initial  d_final  d_hit  d_bust  p_initial  \\\n",
       "0  0        0          2       11         19       1      0       14          \n",
       "1  0        0          10      13         26       1      1       13          \n",
       "2  0        0          9       19         19       0      0       9           \n",
       "3  0        0          10      19         19       0      0       21          \n",
       "4  0        0          4       14         26       1      1       16          \n",
       "\n",
       "   p_final  p_hit  p_bust  p_win  \n",
       "0  14       0      0       0      \n",
       "1  19       1      0       1      \n",
       "2  19       1      0       0      \n",
       "3  21       0      0       1      \n",
       "4  20       1      0       1      "
      ]
     },
     "execution_count": 156,
     "metadata": {},
     "output_type": "execute_result"
    }
   ],
   "source": [
    "df2.head()"
   ]
  },
  {
   "cell_type": "code",
   "execution_count": 157,
   "metadata": {
    "ExecuteTime": {
     "end_time": "2017-03-15T09:28:58.725217",
     "start_time": "2017-03-15T09:28:58.719442"
    }
   },
   "outputs": [],
   "source": [
    "data_dict = pd.read_csv(\"data_dictionary.csv\")"
   ]
  },
  {
   "cell_type": "code",
   "execution_count": 158,
   "metadata": {
    "ExecuteTime": {
     "end_time": "2017-03-15T09:29:23.287052",
     "start_time": "2017-03-15T09:29:23.273626"
    }
   },
   "outputs": [
    {
     "data": {
      "text/html": [
       "<div>\n",
       "<style scoped>\n",
       "    .dataframe tbody tr th:only-of-type {\n",
       "        vertical-align: middle;\n",
       "    }\n",
       "\n",
       "    .dataframe tbody tr th {\n",
       "        vertical-align: top;\n",
       "    }\n",
       "\n",
       "    .dataframe thead th {\n",
       "        text-align: right;\n",
       "    }\n",
       "</style>\n",
       "<table border=\"1\" class=\"dataframe\">\n",
       "  <thead>\n",
       "    <tr style=\"text-align: right;\">\n",
       "      <th></th>\n",
       "      <th>feature</th>\n",
       "      <th>description</th>\n",
       "    </tr>\n",
       "  </thead>\n",
       "  <tbody>\n",
       "    <tr>\n",
       "      <td>0</td>\n",
       "      <td>d_hand</td>\n",
       "      <td>Dealer's starting hand</td>\n",
       "    </tr>\n",
       "    <tr>\n",
       "      <td>1</td>\n",
       "      <td>d_final_hand</td>\n",
       "      <td>Dealer's ending hand</td>\n",
       "    </tr>\n",
       "    <tr>\n",
       "      <td>2</td>\n",
       "      <td>p_hand</td>\n",
       "      <td>Player's starting hand</td>\n",
       "    </tr>\n",
       "    <tr>\n",
       "      <td>3</td>\n",
       "      <td>p_final_hand</td>\n",
       "      <td>Player's ending hand</td>\n",
       "    </tr>\n",
       "    <tr>\n",
       "      <td>4</td>\n",
       "      <td>strategy</td>\n",
       "      <td>0=random strategy 1=recommended strategy</td>\n",
       "    </tr>\n",
       "    <tr>\n",
       "      <td>5</td>\n",
       "      <td>split</td>\n",
       "      <td>0=no split 1=split</td>\n",
       "    </tr>\n",
       "    <tr>\n",
       "      <td>6</td>\n",
       "      <td>num_decks</td>\n",
       "      <td>Number of decks</td>\n",
       "    </tr>\n",
       "    <tr>\n",
       "      <td>7</td>\n",
       "      <td>soft_17</td>\n",
       "      <td>0=dealer to stand on all 17 1=dealer to hit on soft 17</td>\n",
       "    </tr>\n",
       "    <tr>\n",
       "      <td>8</td>\n",
       "      <td>game_type</td>\n",
       "      <td>0=continuous shuffling 1=no reshuffling until end of deck</td>\n",
       "    </tr>\n",
       "    <tr>\n",
       "      <td>9</td>\n",
       "      <td>d_open</td>\n",
       "      <td>Dealer's open card</td>\n",
       "    </tr>\n",
       "    <tr>\n",
       "      <td>10</td>\n",
       "      <td>d_initial</td>\n",
       "      <td>Dealer's starting points</td>\n",
       "    </tr>\n",
       "    <tr>\n",
       "      <td>11</td>\n",
       "      <td>d_final</td>\n",
       "      <td>Dealer's ending points</td>\n",
       "    </tr>\n",
       "    <tr>\n",
       "      <td>12</td>\n",
       "      <td>d_hit</td>\n",
       "      <td>0=dealer didn't hit 1=dealer hit</td>\n",
       "    </tr>\n",
       "    <tr>\n",
       "      <td>13</td>\n",
       "      <td>d_bust</td>\n",
       "      <td>0=dealer didn't bust 1=dealer bust</td>\n",
       "    </tr>\n",
       "    <tr>\n",
       "      <td>14</td>\n",
       "      <td>p_initial</td>\n",
       "      <td>Player's starting points</td>\n",
       "    </tr>\n",
       "    <tr>\n",
       "      <td>15</td>\n",
       "      <td>p_final</td>\n",
       "      <td>Player's ending points</td>\n",
       "    </tr>\n",
       "    <tr>\n",
       "      <td>16</td>\n",
       "      <td>p_hit</td>\n",
       "      <td>0=player didn't hit 1=player hit</td>\n",
       "    </tr>\n",
       "    <tr>\n",
       "      <td>17</td>\n",
       "      <td>p_bust</td>\n",
       "      <td>0=player didn't bust 1=player bust</td>\n",
       "    </tr>\n",
       "    <tr>\n",
       "      <td>18</td>\n",
       "      <td>p_win</td>\n",
       "      <td>0=player didn't win 1=player won</td>\n",
       "    </tr>\n",
       "  </tbody>\n",
       "</table>\n",
       "</div>"
      ],
      "text/plain": [
       "         feature                                                 description\n",
       "0   d_hand         Dealer's starting hand                                   \n",
       "1   d_final_hand   Dealer's ending hand                                     \n",
       "2   p_hand         Player's starting hand                                   \n",
       "3   p_final_hand   Player's ending hand                                     \n",
       "4   strategy       0=random strategy 1=recommended strategy                 \n",
       "5   split          0=no split 1=split                                       \n",
       "6   num_decks      Number of decks                                          \n",
       "7   soft_17        0=dealer to stand on all 17 1=dealer to hit on soft 17   \n",
       "8   game_type      0=continuous shuffling 1=no reshuffling until end of deck\n",
       "9   d_open         Dealer's open card                                       \n",
       "10  d_initial      Dealer's starting points                                 \n",
       "11  d_final        Dealer's ending points                                   \n",
       "12  d_hit          0=dealer didn't hit 1=dealer hit                         \n",
       "13  d_bust         0=dealer didn't bust 1=dealer bust                       \n",
       "14  p_initial      Player's starting points                                 \n",
       "15  p_final        Player's ending points                                   \n",
       "16  p_hit          0=player didn't hit 1=player hit                         \n",
       "17  p_bust         0=player didn't bust 1=player bust                       \n",
       "18  p_win          0=player didn't win 1=player won                         "
      ]
     },
     "execution_count": 158,
     "metadata": {},
     "output_type": "execute_result"
    }
   ],
   "source": [
    "data_dict"
   ]
  },
  {
   "cell_type": "code",
   "execution_count": null,
   "metadata": {},
   "outputs": [],
   "source": []
  }
 ],
 "metadata": {
  "anaconda-cloud": {},
  "kernelspec": {
   "display_name": "Python 3",
   "language": "python",
   "name": "python3"
  },
  "language_info": {
   "codemirror_mode": {
    "name": "ipython",
    "version": 3
   },
   "file_extension": ".py",
   "mimetype": "text/x-python",
   "name": "python",
   "nbconvert_exporter": "python",
   "pygments_lexer": "ipython3",
   "version": "3.7.4"
  },
  "toc": {
   "nav_menu": {
    "height": "138px",
    "width": "252px"
   },
   "navigate_menu": true,
   "number_sections": true,
   "sideBar": true,
   "threshold": 4,
   "toc_cell": false,
   "toc_section_display": "block",
   "toc_window_display": false
  }
 },
 "nbformat": 4,
 "nbformat_minor": 1
}
