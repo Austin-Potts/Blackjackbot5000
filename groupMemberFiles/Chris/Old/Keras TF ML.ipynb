{
 "cells": [
  {
   "cell_type": "code",
   "execution_count": null,
   "metadata": {},
   "outputs": [],
   "source": [
    "import tensorflow as tf\n",
    "from tensorflow import keras\n",
    "from tensorflow.keras import layers\n",
    "import numpy as np\n"
   ]
  },
  {
   "cell_type": "code",
   "execution_count": null,
   "metadata": {},
   "outputs": [],
   "source": [
    "# get the data set\n",
    "data = open( \"data_sets/blackjack2-2-out.data\").readlines()\n",
    "tags = open( \"data_sets/blackjack2-2-out.tags\").readlines()\n",
    "data_clean = []\n",
    "tags_clean = []\n",
    "\n",
    "#strip whitespaces and such\n",
    "first = True\n",
    "i = 0\n",
    "for datum in data:\n",
    "\n",
    "\t# skip empty line first\n",
    "\tif first:\n",
    "\t\tfirst = False\n",
    "\t\tcontinue\n",
    "\tclean_datum = datum[:datum.index('\\n')].strip()\n",
    "\tdata_clean = data_clean + [ int(clean_datum) ]\n",
    "\n",
    "first = True\n",
    "for tag in tags:\n",
    "\tif first:\n",
    "\t\tfirst = False\n",
    "\t\tcontinue\n",
    "\ttag = tag[:tag.index('\\n')]\n",
    "\tif tag is \"h\":\n",
    "\t\ttags_clean = tags_clean + [ 1.0 ]\n",
    "\telse:\n",
    "\t\ttags_clean = tags_clean + [ 0.0 ]\n",
    "\n",
    "size = int( len(data)*(0.75) )\n",
    "\n",
    "train_data = np.array( data_clean[1:size] )\n",
    "train_tags = np.array( tags_clean[1:size] )\n",
    "test_data = np.array( data_clean[size:] )\n",
    "test_tags = np.array( tags_clean[size:] )"
   ]
  },
  {
   "cell_type": "code",
   "execution_count": null,
   "metadata": {},
   "outputs": [],
   "source": [
    "model = keras.Sequential(\n",
    "    [\n",
    "        layers.Dense(4096, input_dim=2),\n",
    "        layers.Dense(2, activation=tf.nn.softmax),\n",
    "    ]\n",
    ")\n",
    "\n",
    "model.compile(optimizer='adam',\n",
    "    loss='sparse_categorical_crossentropy',\n",
    "    metrics=['accuracy'])\n",
    "model.fit(train_data, train_tags, epochs=10)\n",
    "test_loss, test_acc = model.evaluate(test_data, test_tags)\n",
    "print('Test accuracy:', test_acc)"
   ]
  },
  {
   "cell_type": "code",
   "execution_count": null,
   "metadata": {},
   "outputs": [],
   "source": [
    "# save model\n",
    "# taken from https://machinelearningmastery.com/save-load-keras-deep-learning-models/\n",
    "model_json = model.to_json()\n",
    "with open( \"models/blackjackmodel.1.json\", \"w\") as json_file:\n",
    "\tjson_file.write(model_json)\n",
    "# serialize weights to HDF5\n",
    "model.save_weights(\"models/blackjackmodel.1.h5\")\n",
    "print( \"Model saved\" )"
   ]
  },
  {
   "cell_type": "code",
   "execution_count": null,
   "metadata": {},
   "outputs": [],
   "source": [
    "# open serialized model\n",
    "# taken from https://machinelearningmastery.com/save-load-keras-deep-learning-models/\n",
    "json_file = open('models/blackjackmodel.1.json', 'r')\n",
    "loaded_model_json = json_file.read()\n",
    "json_file.close()\n",
    "model = keras.models.model_from_json( loaded_model_json, custom_objects={\"GlorotUniform\": tf.keras.initializers.glorot_uniform} )\n",
    "model.load_weights( \"models/blackjackmodel.1.h5\" )\n",
    "print( \"Model loaded from disk\" )"
   ]
  },
  {
   "cell_type": "code",
   "execution_count": null,
   "metadata": {},
   "outputs": [],
   "source": [
    "print( \"testing model\" )\n",
    "\n",
    "for i in range(21):\n",
    "\tprediction = model.predict( np.array([ [i,10] ]) )\n",
    "\tif prediction[0][0] > prediction[0][1]:\n",
    "\t\tprint( str(i) + \" stay\" )\n",
    "\telse:\n",
    "\t\tprint( str(i) + \" hit\" )"
   ]
  }
 ],
 "metadata": {
  "kernelspec": {
   "display_name": "Python 3",
   "language": "python",
   "name": "python3"
  },
  "language_info": {
   "codemirror_mode": {
    "name": "ipython",
    "version": 3
   },
   "file_extension": ".py",
   "mimetype": "text/x-python",
   "name": "python",
   "nbconvert_exporter": "python",
   "pygments_lexer": "ipython3",
   "version": "3.7.6"
  }
 },
 "nbformat": 4,
 "nbformat_minor": 4
}
