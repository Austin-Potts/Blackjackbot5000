{
 "cells": [
  {
   "cell_type": "code",
   "execution_count": 1,
   "metadata": {},
   "outputs": [],
   "source": [
    "a={(2, 1, True): {0: [0, 0], 1: [0, 0], 2: [0, 0], 3: [111, 276]}}"
   ]
  },
  {
   "cell_type": "code",
   "execution_count": 2,
   "metadata": {},
   "outputs": [
    {
     "data": {
      "text/plain": [
       "{(2, 1, True): {0: [0, 0], 1: [0, 0], 2: [0, 0], 3: [111, 276]}}"
      ]
     },
     "execution_count": 2,
     "metadata": {},
     "output_type": "execute_result"
    }
   ],
   "source": [
    "a"
   ]
  },
  {
   "cell_type": "code",
   "execution_count": 4,
   "metadata": {},
   "outputs": [
    {
     "data": {
      "text/plain": [
       "{0: [0, 0], 1: [0, 0], 2: [0, 0], 3: [111, 276]}"
      ]
     },
     "execution_count": 4,
     "metadata": {},
     "output_type": "execute_result"
    }
   ],
   "source": [
    "a[(2, 1, True)]"
   ]
  },
  {
   "cell_type": "code",
   "execution_count": 12,
   "metadata": {},
   "outputs": [
    {
     "data": {
      "text/plain": [
       "dict_keys([(2, 1, True)])"
      ]
     },
     "execution_count": 12,
     "metadata": {},
     "output_type": "execute_result"
    }
   ],
   "source": [
    "a.keys()"
   ]
  },
  {
   "cell_type": "code",
   "execution_count": 8,
   "metadata": {},
   "outputs": [
    {
     "data": {
      "text/plain": [
       "dict_values([{0: [0, 0], 1: [0, 0], 2: [0, 0], 3: [111, 276]}])"
      ]
     },
     "execution_count": 8,
     "metadata": {},
     "output_type": "execute_result"
    }
   ],
   "source": [
    "a.values()"
   ]
  },
  {
   "cell_type": "code",
   "execution_count": 13,
   "metadata": {},
   "outputs": [],
   "source": [
    "dat={(2, 1, True): {0: [0, 0], 1: [0, 0], 2: [0, 0], 3: [111, 276]}}\n"
   ]
  },
  {
   "cell_type": "code",
   "execution_count": 14,
   "metadata": {},
   "outputs": [
    {
     "name": "stdout",
     "output_type": "stream",
     "text": [
      "{0: [0, 0], 1: [0, 0], 2: [0, 0], 3: [111, 276]}\n",
      "(2, 1, True)\n"
     ]
    }
   ],
   "source": [
    "for x in dat:\n",
    "  print(dat[x])\n",
    "  print(x)"
   ]
  },
  {
   "cell_type": "code",
   "execution_count": 21,
   "metadata": {},
   "outputs": [],
   "source": [
    "dat={(2, 1, True): {0: [0, 0], 1: [0, 0], 2: [0, 0], 3: [111, 276]},(2, 1, False): {0: [0, 0], 1: [0, 0], 2: [0, 0], 3: [0, 0]}}"
   ]
  },
  {
   "cell_type": "code",
   "execution_count": 22,
   "metadata": {},
   "outputs": [
    {
     "data": {
      "text/plain": [
       "{(2, 1, True): {0: [0, 0], 1: [0, 0], 2: [0, 0], 3: [111, 276]},\n",
       " (2, 1, False): {0: [0, 0], 1: [0, 0], 2: [0, 0], 3: [0, 0]}}"
      ]
     },
     "execution_count": 22,
     "metadata": {},
     "output_type": "execute_result"
    }
   ],
   "source": [
    "dat"
   ]
  },
  {
   "cell_type": "code",
   "execution_count": 23,
   "metadata": {},
   "outputs": [
    {
     "name": "stdout",
     "output_type": "stream",
     "text": [
      "(2, 1, True)\n",
      "[0, 0]\n",
      "[0, 0]\n",
      "[0, 0]\n",
      "[111, 276]\n",
      "(2, 1, False)\n",
      "[0, 0]\n",
      "[0, 0]\n",
      "[0, 0]\n",
      "[0, 0]\n"
     ]
    }
   ],
   "source": [
    "for x in dat:\n",
    "  print(x)\n",
    "  daty = dat[x]\n",
    "  for y in daty:\n",
    "  \tprint(daty[y])"
   ]
  },
  {
   "cell_type": "code",
   "execution_count": 76,
   "metadata": {},
   "outputs": [],
   "source": [
    "import numpy as np"
   ]
  },
  {
   "cell_type": "code",
   "execution_count": 77,
   "metadata": {},
   "outputs": [],
   "source": [
    "player=[]\n",
    "dealer=[]\n",
    "ace=[]\n",
    "winPro_0=[]\n",
    "winPro_1=[]\n",
    "winPro_2=[]\n",
    "winPro_3=[]"
   ]
  },
  {
   "cell_type": "code",
   "execution_count": 78,
   "metadata": {},
   "outputs": [],
   "source": [
    "dat={(2, 1, True): {0: [0, 0], 1: [0, 0], 2: [0, 0], 3: [111, 276]},(2, 1, False): {0: [0, 0], 1: [0, 0], 2: [0, 0], 3: [0, 0]}}\n",
    "\n",
    "for x in dat:\n",
    "#   print(x)\n",
    "    player.append(x[0])\n",
    "    dealer.append(x[1])\n",
    "    ace.append(x[2])\n",
    "    daty = dat[x]\n",
    "#     for y in daty:\n",
    "    if daty[0][1]==0:\n",
    "        daty[0][1]=1\n",
    "    if daty[1][1]==0:\n",
    "        daty[1][1]=1 \n",
    "    if daty[2][1]==0:\n",
    "        daty[2][1]=1 \n",
    "    if daty[3][1]==0:\n",
    "        daty[3][1]=1 \n",
    "        \n",
    "    winPro_0.append(daty[0][0]/daty[0][1])\n",
    "    winPro_1.append(daty[1][0]/daty[1][1])\n",
    "    winPro_2.append(daty[2][0]/daty[2][1])\n",
    "    winPro_3.append(daty[3][0]/daty[3][1])  "
   ]
  },
  {
   "cell_type": "code",
   "execution_count": 79,
   "metadata": {},
   "outputs": [
    {
     "data": {
      "text/plain": [
       "[2, 2]"
      ]
     },
     "execution_count": 79,
     "metadata": {},
     "output_type": "execute_result"
    }
   ],
   "source": [
    "player"
   ]
  },
  {
   "cell_type": "code",
   "execution_count": 80,
   "metadata": {},
   "outputs": [
    {
     "data": {
      "text/plain": [
       "[1, 1]"
      ]
     },
     "execution_count": 80,
     "metadata": {},
     "output_type": "execute_result"
    }
   ],
   "source": [
    "dealer"
   ]
  },
  {
   "cell_type": "code",
   "execution_count": 81,
   "metadata": {},
   "outputs": [
    {
     "data": {
      "text/plain": [
       "[True, False]"
      ]
     },
     "execution_count": 81,
     "metadata": {},
     "output_type": "execute_result"
    }
   ],
   "source": [
    "ace"
   ]
  },
  {
   "cell_type": "code",
   "execution_count": 82,
   "metadata": {},
   "outputs": [
    {
     "data": {
      "text/plain": [
       "[0.0, 0.0]"
      ]
     },
     "execution_count": 82,
     "metadata": {},
     "output_type": "execute_result"
    }
   ],
   "source": [
    "winPro_0"
   ]
  },
  {
   "cell_type": "code",
   "execution_count": 83,
   "metadata": {},
   "outputs": [
    {
     "data": {
      "text/plain": [
       "[0.0, 0.0]"
      ]
     },
     "execution_count": 83,
     "metadata": {},
     "output_type": "execute_result"
    }
   ],
   "source": [
    "winPro_1"
   ]
  },
  {
   "cell_type": "code",
   "execution_count": 84,
   "metadata": {},
   "outputs": [
    {
     "data": {
      "text/plain": [
       "[0.0, 0.0]"
      ]
     },
     "execution_count": 84,
     "metadata": {},
     "output_type": "execute_result"
    }
   ],
   "source": [
    "winPro_2"
   ]
  },
  {
   "cell_type": "code",
   "execution_count": 85,
   "metadata": {},
   "outputs": [
    {
     "data": {
      "text/plain": [
       "[0.40217391304347827, 0.0]"
      ]
     },
     "execution_count": 85,
     "metadata": {},
     "output_type": "execute_result"
    }
   ],
   "source": [
    "winPro_3"
   ]
  },
  {
   "cell_type": "code",
   "execution_count": null,
   "metadata": {},
   "outputs": [],
   "source": []
  }
 ],
 "metadata": {
  "kernelspec": {
   "display_name": "Python 3",
   "language": "python",
   "name": "python3"
  },
  "language_info": {
   "codemirror_mode": {
    "name": "ipython",
    "version": 3
   },
   "file_extension": ".py",
   "mimetype": "text/x-python",
   "name": "python",
   "nbconvert_exporter": "python",
   "pygments_lexer": "ipython3",
   "version": "3.7.4"
  }
 },
 "nbformat": 4,
 "nbformat_minor": 2
}
